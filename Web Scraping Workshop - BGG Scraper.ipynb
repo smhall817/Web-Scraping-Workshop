{
  "nbformat": 4,
  "nbformat_minor": 0,
  "metadata": {
    "colab": {
      "provenance": []
    },
    "kernelspec": {
      "name": "python3",
      "display_name": "Python 3"
    },
    "language_info": {
      "name": "python"
    }
  },
  "cells": [
    {
      "cell_type": "code",
      "execution_count": null,
      "metadata": {
        "id": "16x_HCMbUpVh"
      },
      "outputs": [],
      "source": [
        "import requests\n",
        "from bs4 import BeautifulSoup\n",
        "import re"
      ]
    },
    {
      "cell_type": "code",
      "source": [
        "URL = \"https://boardgamegeek.com/boardgame/167791/terraforming-mars\"\n",
        "page = requests.get(URL)\n",
        "soup = BeautifulSoup(page.content, \"html.parser\")\n",
        "soup = str(soup)\n",
        "print(soup)"
      ],
      "metadata": {
        "id": "ngToSfPMUuyB"
      },
      "execution_count": null,
      "outputs": []
    },
    {
      "cell_type": "code",
      "source": [
        "weight = re.search('\"averageweight\":', soup).group()\n",
        "print(weight)"
      ],
      "metadata": {
        "id": "8m8oayClVGNm"
      },
      "execution_count": null,
      "outputs": []
    },
    {
      "cell_type": "code",
      "source": [
        "weight = re.search('\"averageweight\":\\d', soup).group()\n",
        "print(weight)"
      ],
      "metadata": {
        "id": "8qM4T7xdWhoi"
      },
      "execution_count": null,
      "outputs": []
    },
    {
      "cell_type": "code",
      "source": [
        "weight = re.search('\"averageweight\":\\d.\\d+', soup).group()\n",
        "print(weight)"
      ],
      "metadata": {
        "id": "kRsAp4XmYzEt"
      },
      "execution_count": null,
      "outputs": []
    },
    {
      "cell_type": "code",
      "source": [
        "weight = re.search('\"averageweight\":(\\d.?\\d+)[^\\d]', soup).group(1)\n",
        "print(weight)"
      ],
      "metadata": {
        "id": "mofmZa3KXoLz"
      },
      "execution_count": null,
      "outputs": []
    },
    {
      "cell_type": "code",
      "source": [
        "weight = float(weight)\n",
        "weight = round(weight, 2)\n",
        "print(weight)"
      ],
      "metadata": {
        "id": "_eZUDg-WXvYJ"
      },
      "execution_count": null,
      "outputs": []
    },
    {
      "cell_type": "code",
      "source": [
        "name = re.search('<title>', soup).group()\n",
        "print(name)"
      ],
      "metadata": {
        "id": "oYX8Ystec8QL"
      },
      "execution_count": null,
      "outputs": []
    },
    {
      "cell_type": "code",
      "source": [
        "name = re.search('<title>[A-Za-z0-9]+', soup).group()\n",
        "print(name)"
      ],
      "metadata": {
        "id": "JjicADhEdtKY"
      },
      "execution_count": null,
      "outputs": []
    },
    {
      "cell_type": "code",
      "source": [
        "name = re.search('<title>[A-Za-z0-9, :]+', soup).group()\n",
        "print(name)"
      ],
      "metadata": {
        "id": "i4A18oRqeJ1K"
      },
      "execution_count": null,
      "outputs": []
    },
    {
      "cell_type": "code",
      "source": [
        "name = re.search('<title>([A-Za-z0-9, :]+)[^|]', soup).group(1)\n",
        "print(name)"
      ],
      "metadata": {
        "id": "VM3u3NAreLSs"
      },
      "execution_count": null,
      "outputs": []
    },
    {
      "cell_type": "code",
      "source": [
        "print(\"Name: \" + name + \", Weight: \" + str(weight))"
      ],
      "metadata": {
        "id": "98-6OjKzeeNR"
      },
      "execution_count": null,
      "outputs": []
    },
    {
      "cell_type": "code",
      "source": [
        "top100 = 'https://boardgamegeek.com/browse/boardgame'\n",
        "reqs = requests.get(top100)\n",
        "soup100 = BeautifulSoup(reqs.text, 'html.parser')"
      ],
      "metadata": {
        "id": "U_M_oYHPetY_"
      },
      "execution_count": null,
      "outputs": []
    },
    {
      "cell_type": "code",
      "source": [
        "urls = []\n",
        "for link in soup100.find_all('a'):\n",
        "  urls.append((link.get('href')))\n",
        "print(urls)"
      ],
      "metadata": {
        "id": "2Q3uIKh9qLfE"
      },
      "execution_count": null,
      "outputs": []
    },
    {
      "cell_type": "code",
      "source": [
        "urls = list(set(urls))\n",
        "print(urls)"
      ],
      "metadata": {
        "id": "xH4SGKCzqy-P"
      },
      "execution_count": null,
      "outputs": []
    },
    {
      "cell_type": "code",
      "source": [
        "urls.remove(None)\n",
        "urls = [i for i in urls if i[:11] == '/boardgame/']\n",
        "print(urls)"
      ],
      "metadata": {
        "id": "h0MMlcvyslwf"
      },
      "execution_count": null,
      "outputs": []
    },
    {
      "cell_type": "code",
      "source": [
        "def scrape(link):\n",
        "  URL = \"https://boardgamegeek.com/\" + link\n",
        "  page = requests.get(URL)\n",
        "  soup = BeautifulSoup(page.content, \"html.parser\")\n",
        "  soup = str(soup)\n",
        "\n",
        "  weight = weight = re.search('\"averageweight\":(\\d.?\\d+)[^\\d]', soup).group(1)\n",
        "  weight = float(weight)\n",
        "  weight = round(weight, 2)\n",
        "  name = name = re.search('<title>([A-Za-z0-9, :]+)[^|]', soup).group(1)\n",
        "  name = name\n",
        "  return((name, weight))"
      ],
      "metadata": {
        "id": "FD7lADzjwJX4"
      },
      "execution_count": null,
      "outputs": []
    },
    {
      "cell_type": "code",
      "source": [
        "for i in urls:\n",
        "  print(scrape(i))"
      ],
      "metadata": {
        "id": "zOKv62t6zN4n"
      },
      "execution_count": null,
      "outputs": []
    }
  ]
}